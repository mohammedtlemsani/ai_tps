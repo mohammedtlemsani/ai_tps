{
 "cells": [
  {
   "cell_type": "code",
   "execution_count": 2,
   "id": "initial_id",
   "metadata": {
    "collapsed": true,
    "ExecuteTime": {
     "end_time": "2024-03-23T22:48:54.917256Z",
     "start_time": "2024-03-23T22:48:54.912367Z"
    }
   },
   "outputs": [],
   "source": [
    "import pandas as pd\n",
    "import numpy as np\n",
    "import matplotlib.pyplot as plt\n",
    "import seaborn as sns"
   ]
  },
  {
   "cell_type": "code",
   "outputs": [
    {
     "data": {
      "text/plain": "      TV  Radio  Newspaper  Sales\n0  230.1   37.8       69.2   22.1\n1   44.5   39.3       45.1   10.4\n2   17.2   45.9       69.3   12.0\n3  151.5   41.3       58.5   16.5\n4  180.8   10.8       58.4   17.9",
      "text/html": "<div>\n<style scoped>\n    .dataframe tbody tr th:only-of-type {\n        vertical-align: middle;\n    }\n\n    .dataframe tbody tr th {\n        vertical-align: top;\n    }\n\n    .dataframe thead th {\n        text-align: right;\n    }\n</style>\n<table border=\"1\" class=\"dataframe\">\n  <thead>\n    <tr style=\"text-align: right;\">\n      <th></th>\n      <th>TV</th>\n      <th>Radio</th>\n      <th>Newspaper</th>\n      <th>Sales</th>\n    </tr>\n  </thead>\n  <tbody>\n    <tr>\n      <th>0</th>\n      <td>230.1</td>\n      <td>37.8</td>\n      <td>69.2</td>\n      <td>22.1</td>\n    </tr>\n    <tr>\n      <th>1</th>\n      <td>44.5</td>\n      <td>39.3</td>\n      <td>45.1</td>\n      <td>10.4</td>\n    </tr>\n    <tr>\n      <th>2</th>\n      <td>17.2</td>\n      <td>45.9</td>\n      <td>69.3</td>\n      <td>12.0</td>\n    </tr>\n    <tr>\n      <th>3</th>\n      <td>151.5</td>\n      <td>41.3</td>\n      <td>58.5</td>\n      <td>16.5</td>\n    </tr>\n    <tr>\n      <th>4</th>\n      <td>180.8</td>\n      <td>10.8</td>\n      <td>58.4</td>\n      <td>17.9</td>\n    </tr>\n  </tbody>\n</table>\n</div>"
     },
     "execution_count": 3,
     "metadata": {},
     "output_type": "execute_result"
    }
   ],
   "source": [
    "data = pd.read_csv(\"Advertising.csv\")\n",
    "data.head()"
   ],
   "metadata": {
    "collapsed": false,
    "ExecuteTime": {
     "end_time": "2024-03-23T22:48:55.522962Z",
     "start_time": "2024-03-23T22:48:55.485507Z"
    }
   },
   "id": "837ea71d9689de",
   "execution_count": 3
  },
  {
   "cell_type": "code",
   "outputs": [
    {
     "data": {
      "text/plain": "                 TV     Radio  Newspaper     Sales\nTV         1.000000  0.054809   0.056648  0.901208\nRadio      0.054809  1.000000   0.354104  0.349631\nNewspaper  0.056648  0.354104   1.000000  0.157960\nSales      0.901208  0.349631   0.157960  1.000000",
      "text/html": "<div>\n<style scoped>\n    .dataframe tbody tr th:only-of-type {\n        vertical-align: middle;\n    }\n\n    .dataframe tbody tr th {\n        vertical-align: top;\n    }\n\n    .dataframe thead th {\n        text-align: right;\n    }\n</style>\n<table border=\"1\" class=\"dataframe\">\n  <thead>\n    <tr style=\"text-align: right;\">\n      <th></th>\n      <th>TV</th>\n      <th>Radio</th>\n      <th>Newspaper</th>\n      <th>Sales</th>\n    </tr>\n  </thead>\n  <tbody>\n    <tr>\n      <th>TV</th>\n      <td>1.000000</td>\n      <td>0.054809</td>\n      <td>0.056648</td>\n      <td>0.901208</td>\n    </tr>\n    <tr>\n      <th>Radio</th>\n      <td>0.054809</td>\n      <td>1.000000</td>\n      <td>0.354104</td>\n      <td>0.349631</td>\n    </tr>\n    <tr>\n      <th>Newspaper</th>\n      <td>0.056648</td>\n      <td>0.354104</td>\n      <td>1.000000</td>\n      <td>0.157960</td>\n    </tr>\n    <tr>\n      <th>Sales</th>\n      <td>0.901208</td>\n      <td>0.349631</td>\n      <td>0.157960</td>\n      <td>1.000000</td>\n    </tr>\n  </tbody>\n</table>\n</div>"
     },
     "execution_count": 4,
     "metadata": {},
     "output_type": "execute_result"
    }
   ],
   "source": [
    "data.corr()"
   ],
   "metadata": {
    "collapsed": false,
    "ExecuteTime": {
     "end_time": "2024-03-23T22:48:56.490281Z",
     "start_time": "2024-03-23T22:48:56.474996Z"
    }
   },
   "id": "34be943e4c9805c7",
   "execution_count": 4
  },
  {
   "cell_type": "code",
   "outputs": [
    {
     "name": "stdout",
     "output_type": "stream",
     "text": [
      "(200, 1)\n",
      "(200, 9)\n"
     ]
    }
   ],
   "source": [
    "columns=[\"TV\",\"Radio\",\"Newspaper\"]\n",
    "X=data[columns].values.reshape(-1,3)\n",
    "y=data[\"Sales\"].values.reshape(-1,1)\n",
    "print(y.shape)\n",
    "X = np.column_stack((X[:, 0] * X[:, 1], X[:, 0] * X[:, 2], X[:, 1] * X[:, 2], X[:, 0] ** 2, X[:, 1] ** 2, X[:, 2] ** 2, X))\n",
    "print(X.shape)"
   ],
   "metadata": {
    "collapsed": false,
    "ExecuteTime": {
     "end_time": "2024-03-23T22:53:41.909849Z",
     "start_time": "2024-03-23T22:53:41.898841Z"
    }
   },
   "id": "6a0a0e15afb7e95d",
   "execution_count": 7
  },
  {
   "cell_type": "code",
   "outputs": [
    {
     "name": "stdout",
     "output_type": "stream",
     "text": [
      "[[8.93200e+02 2.67960e+03 1.77870e+02 ... 1.16000e+02 7.70000e+00\n",
      "  2.31000e+01]\n",
      " [1.64610e+03 1.13280e+03 5.95200e+01 ... 1.77000e+02 9.30000e+00\n",
      "  6.40000e+00]\n",
      " [1.15077e+03 1.51281e+03 9.37170e+02 ... 4.31000e+01 2.67000e+01\n",
      "  3.51000e+01]\n",
      " ...\n",
      " [7.29295e+03 1.28443e+04 1.97650e+03 ... 2.17700e+02 3.35000e+01\n",
      "  5.90000e+01]\n",
      " [1.65600e+03 2.91456e+03 1.76000e+02 ... 1.65600e+02 1.00000e+01\n",
      "  1.76000e+01]\n",
      " [2.83002e+03 5.99628e+03 2.16140e+02 ... 2.80200e+02 1.01000e+01\n",
      "  2.14000e+01]]\n"
     ]
    }
   ],
   "source": [
    "from sklearn.model_selection import train_test_split\n",
    "X_train, X_test, y_train, y_test = train_test_split(X, y, test_size=0.2, random_state=42)\n",
    "print(X_train)"
   ],
   "metadata": {
    "collapsed": false,
    "ExecuteTime": {
     "end_time": "2024-03-23T22:54:07.969207Z",
     "start_time": "2024-03-23T22:54:07.050102Z"
    }
   },
   "id": "fdb6cfb7d43d0f03",
   "execution_count": 8
  },
  {
   "cell_type": "code",
   "outputs": [
    {
     "name": "stdout",
     "output_type": "stream",
     "text": [
      "[[ 5.01838751e-01  8.80626951e-01  9.76876694e-01 -1.14868405e-01\n",
      "   3.53971232e-01  9.42058287e-01  1.57812165e-01  5.91127268e-01\n",
      "   1.13227461e+00]\n",
      " [ 1.75835198e+00  1.24415002e+00  1.93264278e+00  3.37942156e-01\n",
      "   2.10942255e+00  9.42058287e-01  5.39252835e-01  1.68199613e+00\n",
      "   1.13227461e+00]\n",
      " [ 1.44681051e+00  1.74008652e+00  4.72919345e-01  2.21022509e+00\n",
      "   8.21831001e-02  3.52960294e-01  1.69783431e+00  3.67533029e-01\n",
      "   6.53800957e-01]\n",
      " [-9.26299991e-01 -8.55484765e-01  9.72657224e-01 -1.15818806e+00\n",
      "   8.53150073e-01  4.64691550e-01 -1.64363349e+00  9.50233166e-01\n",
      "   7.52455319e-01]\n",
      " [ 2.20357258e+00 -8.17781414e-01 -7.23075988e-01  7.45003170e-01\n",
      "   2.28226864e+00 -8.19965110e-01  8.35136719e-01  1.77007871e+00\n",
      "  -1.31928629e+00]\n",
      " [-2.62821262e-01 -1.21427584e-01  1.17086010e+00 -9.41772181e-01\n",
      "   6.65316933e-01  9.28711204e-01 -8.90258461e-01  8.21497089e-01\n",
      "   1.12240918e+00]\n",
      " [ 1.81783271e+00  2.93709601e-01  4.40959103e-01  6.84840239e-01\n",
      "   1.63082685e+00 -3.58884089e-01  7.93546615e-01  1.42452397e+00\n",
      "  -1.35433942e-01]\n",
      " [-8.81518793e-01 -7.71746162e-01 -6.59514609e-01 -1.06525632e+00\n",
      "  -8.33993286e-01 -6.12478650e-01 -1.18851892e+00 -7.63989329e-01\n",
      "  -5.69513136e-01]\n",
      " [-8.28314128e-01 -3.44995267e-01 -8.49054103e-01  7.81563404e-01\n",
      "  -1.00311323e+00 -7.17985060e-01  8.60090782e-01 -1.31958713e+00\n",
      "  -8.30947196e-01]\n",
      " [ 1.33208584e-01  2.12079663e-01 -1.03677977e-01  4.21651636e-02\n",
      "  -3.22934800e-01 -1.99370026e-01  2.98030231e-01 -2.54507836e-02\n",
      "   7.66729372e-02]\n",
      " [-8.22654186e-01 -9.53861995e-01 -8.38303432e-01 -1.12455014e+00\n",
      "  -1.86937612e-01 -8.23377716e-01 -1.40835233e+00  1.16836459e-01\n",
      "  -1.36861347e+00]\n",
      " [-9.59942519e-01 -6.11372052e-01 -7.09059717e-01 -1.03936248e+00\n",
      "  -9.74335344e-01 -2.68987193e-01 -1.11484502e+00 -1.16374872e+00\n",
      "  -1.21159889e-02]\n",
      " [-8.15888833e-01  3.28836439e+00 -5.75484311e-01  9.98976983e-01\n",
      "  -1.00311323e+00  3.71804283e+00  1.00387371e+00 -1.31958713e+00\n",
      "   2.70581169e+00]\n",
      " [-1.00792820e+00 -9.57830995e-01 -5.83631479e-01 -1.16242465e+00\n",
      "   2.10219276e-01 -7.70596073e-01 -1.71849568e+00  4.75942357e-01\n",
      "  -1.01345777e+00]\n",
      " [-9.68214974e-01 -1.74319742e-01 -8.36350805e-01 -3.98276967e-01\n",
      "  -1.01294419e+00 -3.79283891e-01 -1.25000544e-01 -1.40766971e+00\n",
      "  -1.65030250e-01]\n",
      " [-6.55737233e-01  3.13850023e-01 -5.90925776e-01 -2.43733044e-02\n",
      "  -9.35355258e-01 -4.34076009e-02  2.39804085e-01 -1.02146148e+00\n",
      "   2.59183507e-01]\n",
      " [-9.94738781e-01 -9.03999036e-01  4.06462691e-01 -1.16147572e+00\n",
      "   6.66735633e-02  2.56724798e-01 -1.69591819e+00  3.53981863e-01\n",
      "   5.65012030e-01]\n",
      " [ 3.33852631e-01 -3.68012893e-01 -5.27745944e-01  3.71943444e-01\n",
      "  -2.72556305e-01 -6.99007177e-01  5.65395186e-01  2.87538803e-02\n",
      "  -7.76687297e-01]\n",
      " [-5.95021214e-01 -4.44796114e-01 -1.58665753e-01 -9.40589254e-01\n",
      "  -4.52400933e-01 -1.58924322e-01 -8.87881883e-01 -1.74513609e-01\n",
      "   1.26000118e-01]\n",
      " [ 9.15074942e-01 -4.09655272e-01 -5.59571522e-01  1.05279505e+00\n",
      "   2.08049333e-02 -7.49968764e-01  1.03833409e+00  3.13328366e-01\n",
      "  -9.34534276e-01]\n",
      " [ 1.18217046e+00  2.67680885e+00  1.79049377e+00  9.07740587e-01\n",
      "   4.15473145e-01  2.65293051e+00  9.44459279e-01  6.38556349e-01\n",
      "   2.18294357e+00]\n",
      " [-3.07224928e-01  6.85951183e-01  3.78322830e+00 -9.82795918e-01\n",
      "   8.22832228e-01  7.38656926e+00 -9.77003535e-01  9.29906417e-01\n",
      "   4.14616538e+00]\n",
      " [-5.94172525e-01 -8.71891674e-01 -3.60863657e-01 -1.10678461e+00\n",
      "   1.21404929e+00 -7.36943984e-01 -1.33111357e+00  1.18060299e+00\n",
      "  -8.90139813e-01]\n",
      " [ 1.70920350e+00  2.91468548e+00  2.06239149e+00  1.31203423e+00\n",
      "   8.12781279e-01  2.47702329e+00  1.19875306e+00  9.23130834e-01\n",
      "   2.08922193e+00]\n",
      " [-8.62883871e-01 -9.55403354e-01 -8.89644059e-01 -9.76340157e-01\n",
      "  -9.00087562e-01 -8.25924531e-01 -9.62744071e-01 -9.19827737e-01\n",
      "  -1.43273881e+00]\n",
      " [-1.02437646e+00 -7.23600105e-01 -8.51006731e-01 -1.05101046e+00\n",
      "  -1.01350792e+00 -5.37022135e-01 -1.14692882e+00 -1.41444530e+00\n",
      "  -4.21531592e-01]\n",
      " [ 1.71604436e+00  5.76150771e-01  7.31967876e-01  6.28997665e-01\n",
      "   1.52329131e+00 -1.04455335e-01  7.54333088e-01  1.36354373e+00\n",
      "   1.90125454e-01]\n",
      " [-4.46648576e-01 -6.64523244e-01 -7.33063564e-01 -4.00469787e-01\n",
      "  -7.29922644e-01 -7.60686875e-01 -1.27377121e-01 -5.67497422e-01\n",
      "  -9.73996021e-01]\n",
      " [-7.45921799e-01 -4.85207546e-01 -5.56070259e-01 -8.64542537e-01\n",
      "  -8.27558478e-01 -4.02508572e-01 -7.46475529e-01 -7.50438163e-01\n",
      "  -1.99559277e-01]\n",
      " [-9.87686505e-01 -9.64921245e-01 -8.34936834e-01 -1.16079655e+00\n",
      "  -1.75814280e-03 -8.23649461e-01 -1.68284702e+00  2.93001617e-01\n",
      "  -1.37354619e+00]\n",
      " [-8.99797326e-01 -6.19161454e-02 -8.37181233e-01  4.06325408e-01\n",
      "  -1.00971304e+00 -5.42406469e-01  5.91537537e-01 -1.37379180e+00\n",
      "  -4.31397029e-01]\n",
      " [-6.28240907e-01 -6.97598237e-01 -4.78043729e-01 -9.75253185e-01\n",
      "  -4.41181268e-01 -6.14797959e-01 -9.60367494e-01 -1.60962443e-01\n",
      "  -5.74445854e-01]\n",
      " [ 1.91089860e+00  1.58610477e+00  2.42716243e+00  3.92214048e-01\n",
      "   2.33638702e+00  1.44863440e+00  5.80842939e-01  1.79718104e+00\n",
      "   1.48249760e+00]\n",
      " [-8.33638823e-01 -6.45256258e-01  3.48514967e+00 -1.15233949e+00\n",
      "   1.60673756e+00  4.22444832e+00 -1.58184248e+00  1.41097281e+00\n",
      "   2.93271673e+00]\n",
      " [ 1.21725606e-01  1.25469120e+00 -3.21889669e-01  1.93502466e+00\n",
      "  -7.53351944e-01  3.87224559e-02  1.55286309e+00 -6.08150920e-01\n",
      "   3.47972433e-01]\n",
      " [ 1.41092696e+00 -6.98433140e-01 -6.95032223e-01  1.06775782e+00\n",
      "   5.98617675e-01 -8.08684550e-01  1.04784039e+00  7.74068008e-01\n",
      "  -1.21569921e+00]\n",
      " [-3.71066903e-01 -8.80808007e-01 -4.50718171e-01 -1.07182809e+00\n",
      "   2.01827652e+00 -7.80777015e-01 -1.20871983e+00  1.63456705e+00\n",
      "  -1.05785223e+00]\n",
      " [ 1.33230088e+00  2.52930722e+00  1.03712758e+00  1.78240819e+00\n",
      "   1.29371691e-01  1.42594057e+00  1.46968288e+00  4.08186527e-01\n",
      "   1.46769945e+00]\n",
      " [-5.36352922e-01 -8.33212129e-01 -8.09956673e-01 -6.23395303e-01\n",
      "  -7.21892884e-01 -8.08008349e-01 -3.89988922e-01 -5.53946256e-01\n",
      "  -1.21076649e+00]\n",
      " [-1.04340402e+00 -8.46833888e-01 -8.61869622e-01 -1.13383109e+00\n",
      "  -1.01548786e+00 -5.55646117e-01 -1.45588388e+00 -1.44154763e+00\n",
      "  -4.56060619e-01]]\n"
     ]
    }
   ],
   "source": [
    "from sklearn.preprocessing import StandardScaler\n",
    "scaler = StandardScaler()\n",
    "scaler.fit(X_train)\n",
    "means = scaler.mean_\n",
    "scales = np.sqrt(scaler.var_)\n",
    "X_train_scaled = scaler.transform(X_train)\n",
    "X_test_scaled = (X_test - means)/scales\n",
    "print(X_test_scaled)"
   ],
   "metadata": {
    "collapsed": false,
    "ExecuteTime": {
     "end_time": "2024-03-23T22:54:34.898917Z",
     "start_time": "2024-03-23T22:54:34.883767Z"
    }
   },
   "id": "31a32604c739f919",
   "execution_count": 9
  },
  {
   "cell_type": "code",
   "outputs": [
    {
     "name": "stdout",
     "output_type": "stream",
     "text": [
      "[[ 5.01838751e-01  8.80626951e-01  9.76876694e-01 -1.14868405e-01\n",
      "   3.53971232e-01  9.42058287e-01  1.57812165e-01  5.91127268e-01\n",
      "   1.13227461e+00  1.00000000e+00]\n",
      " [ 1.75835198e+00  1.24415002e+00  1.93264278e+00  3.37942156e-01\n",
      "   2.10942255e+00  9.42058287e-01  5.39252835e-01  1.68199613e+00\n",
      "   1.13227461e+00  1.00000000e+00]\n",
      " [ 1.44681051e+00  1.74008652e+00  4.72919345e-01  2.21022509e+00\n",
      "   8.21831001e-02  3.52960294e-01  1.69783431e+00  3.67533029e-01\n",
      "   6.53800957e-01  1.00000000e+00]\n",
      " [-9.26299991e-01 -8.55484765e-01  9.72657224e-01 -1.15818806e+00\n",
      "   8.53150073e-01  4.64691550e-01 -1.64363349e+00  9.50233166e-01\n",
      "   7.52455319e-01  1.00000000e+00]\n",
      " [ 2.20357258e+00 -8.17781414e-01 -7.23075988e-01  7.45003170e-01\n",
      "   2.28226864e+00 -8.19965110e-01  8.35136719e-01  1.77007871e+00\n",
      "  -1.31928629e+00  1.00000000e+00]\n",
      " [-2.62821262e-01 -1.21427584e-01  1.17086010e+00 -9.41772181e-01\n",
      "   6.65316933e-01  9.28711204e-01 -8.90258461e-01  8.21497089e-01\n",
      "   1.12240918e+00  1.00000000e+00]\n",
      " [ 1.81783271e+00  2.93709601e-01  4.40959103e-01  6.84840239e-01\n",
      "   1.63082685e+00 -3.58884089e-01  7.93546615e-01  1.42452397e+00\n",
      "  -1.35433942e-01  1.00000000e+00]\n",
      " [-8.81518793e-01 -7.71746162e-01 -6.59514609e-01 -1.06525632e+00\n",
      "  -8.33993286e-01 -6.12478650e-01 -1.18851892e+00 -7.63989329e-01\n",
      "  -5.69513136e-01  1.00000000e+00]\n",
      " [-8.28314128e-01 -3.44995267e-01 -8.49054103e-01  7.81563404e-01\n",
      "  -1.00311323e+00 -7.17985060e-01  8.60090782e-01 -1.31958713e+00\n",
      "  -8.30947196e-01  1.00000000e+00]\n",
      " [ 1.33208584e-01  2.12079663e-01 -1.03677977e-01  4.21651636e-02\n",
      "  -3.22934800e-01 -1.99370026e-01  2.98030231e-01 -2.54507836e-02\n",
      "   7.66729372e-02  1.00000000e+00]\n",
      " [-8.22654186e-01 -9.53861995e-01 -8.38303432e-01 -1.12455014e+00\n",
      "  -1.86937612e-01 -8.23377716e-01 -1.40835233e+00  1.16836459e-01\n",
      "  -1.36861347e+00  1.00000000e+00]\n",
      " [-9.59942519e-01 -6.11372052e-01 -7.09059717e-01 -1.03936248e+00\n",
      "  -9.74335344e-01 -2.68987193e-01 -1.11484502e+00 -1.16374872e+00\n",
      "  -1.21159889e-02  1.00000000e+00]\n",
      " [-8.15888833e-01  3.28836439e+00 -5.75484311e-01  9.98976983e-01\n",
      "  -1.00311323e+00  3.71804283e+00  1.00387371e+00 -1.31958713e+00\n",
      "   2.70581169e+00  1.00000000e+00]\n",
      " [-1.00792820e+00 -9.57830995e-01 -5.83631479e-01 -1.16242465e+00\n",
      "   2.10219276e-01 -7.70596073e-01 -1.71849568e+00  4.75942357e-01\n",
      "  -1.01345777e+00  1.00000000e+00]\n",
      " [-9.68214974e-01 -1.74319742e-01 -8.36350805e-01 -3.98276967e-01\n",
      "  -1.01294419e+00 -3.79283891e-01 -1.25000544e-01 -1.40766971e+00\n",
      "  -1.65030250e-01  1.00000000e+00]\n",
      " [-6.55737233e-01  3.13850023e-01 -5.90925776e-01 -2.43733044e-02\n",
      "  -9.35355258e-01 -4.34076009e-02  2.39804085e-01 -1.02146148e+00\n",
      "   2.59183507e-01  1.00000000e+00]\n",
      " [-9.94738781e-01 -9.03999036e-01  4.06462691e-01 -1.16147572e+00\n",
      "   6.66735633e-02  2.56724798e-01 -1.69591819e+00  3.53981863e-01\n",
      "   5.65012030e-01  1.00000000e+00]\n",
      " [ 3.33852631e-01 -3.68012893e-01 -5.27745944e-01  3.71943444e-01\n",
      "  -2.72556305e-01 -6.99007177e-01  5.65395186e-01  2.87538803e-02\n",
      "  -7.76687297e-01  1.00000000e+00]\n",
      " [-5.95021214e-01 -4.44796114e-01 -1.58665753e-01 -9.40589254e-01\n",
      "  -4.52400933e-01 -1.58924322e-01 -8.87881883e-01 -1.74513609e-01\n",
      "   1.26000118e-01  1.00000000e+00]\n",
      " [ 9.15074942e-01 -4.09655272e-01 -5.59571522e-01  1.05279505e+00\n",
      "   2.08049333e-02 -7.49968764e-01  1.03833409e+00  3.13328366e-01\n",
      "  -9.34534276e-01  1.00000000e+00]\n",
      " [ 1.18217046e+00  2.67680885e+00  1.79049377e+00  9.07740587e-01\n",
      "   4.15473145e-01  2.65293051e+00  9.44459279e-01  6.38556349e-01\n",
      "   2.18294357e+00  1.00000000e+00]\n",
      " [-3.07224928e-01  6.85951183e-01  3.78322830e+00 -9.82795918e-01\n",
      "   8.22832228e-01  7.38656926e+00 -9.77003535e-01  9.29906417e-01\n",
      "   4.14616538e+00  1.00000000e+00]\n",
      " [-5.94172525e-01 -8.71891674e-01 -3.60863657e-01 -1.10678461e+00\n",
      "   1.21404929e+00 -7.36943984e-01 -1.33111357e+00  1.18060299e+00\n",
      "  -8.90139813e-01  1.00000000e+00]\n",
      " [ 1.70920350e+00  2.91468548e+00  2.06239149e+00  1.31203423e+00\n",
      "   8.12781279e-01  2.47702329e+00  1.19875306e+00  9.23130834e-01\n",
      "   2.08922193e+00  1.00000000e+00]\n",
      " [-8.62883871e-01 -9.55403354e-01 -8.89644059e-01 -9.76340157e-01\n",
      "  -9.00087562e-01 -8.25924531e-01 -9.62744071e-01 -9.19827737e-01\n",
      "  -1.43273881e+00  1.00000000e+00]\n",
      " [-1.02437646e+00 -7.23600105e-01 -8.51006731e-01 -1.05101046e+00\n",
      "  -1.01350792e+00 -5.37022135e-01 -1.14692882e+00 -1.41444530e+00\n",
      "  -4.21531592e-01  1.00000000e+00]\n",
      " [ 1.71604436e+00  5.76150771e-01  7.31967876e-01  6.28997665e-01\n",
      "   1.52329131e+00 -1.04455335e-01  7.54333088e-01  1.36354373e+00\n",
      "   1.90125454e-01  1.00000000e+00]\n",
      " [-4.46648576e-01 -6.64523244e-01 -7.33063564e-01 -4.00469787e-01\n",
      "  -7.29922644e-01 -7.60686875e-01 -1.27377121e-01 -5.67497422e-01\n",
      "  -9.73996021e-01  1.00000000e+00]\n",
      " [-7.45921799e-01 -4.85207546e-01 -5.56070259e-01 -8.64542537e-01\n",
      "  -8.27558478e-01 -4.02508572e-01 -7.46475529e-01 -7.50438163e-01\n",
      "  -1.99559277e-01  1.00000000e+00]\n",
      " [-9.87686505e-01 -9.64921245e-01 -8.34936834e-01 -1.16079655e+00\n",
      "  -1.75814280e-03 -8.23649461e-01 -1.68284702e+00  2.93001617e-01\n",
      "  -1.37354619e+00  1.00000000e+00]\n",
      " [-8.99797326e-01 -6.19161454e-02 -8.37181233e-01  4.06325408e-01\n",
      "  -1.00971304e+00 -5.42406469e-01  5.91537537e-01 -1.37379180e+00\n",
      "  -4.31397029e-01  1.00000000e+00]\n",
      " [-6.28240907e-01 -6.97598237e-01 -4.78043729e-01 -9.75253185e-01\n",
      "  -4.41181268e-01 -6.14797959e-01 -9.60367494e-01 -1.60962443e-01\n",
      "  -5.74445854e-01  1.00000000e+00]\n",
      " [ 1.91089860e+00  1.58610477e+00  2.42716243e+00  3.92214048e-01\n",
      "   2.33638702e+00  1.44863440e+00  5.80842939e-01  1.79718104e+00\n",
      "   1.48249760e+00  1.00000000e+00]\n",
      " [-8.33638823e-01 -6.45256258e-01  3.48514967e+00 -1.15233949e+00\n",
      "   1.60673756e+00  4.22444832e+00 -1.58184248e+00  1.41097281e+00\n",
      "   2.93271673e+00  1.00000000e+00]\n",
      " [ 1.21725606e-01  1.25469120e+00 -3.21889669e-01  1.93502466e+00\n",
      "  -7.53351944e-01  3.87224559e-02  1.55286309e+00 -6.08150920e-01\n",
      "   3.47972433e-01  1.00000000e+00]\n",
      " [ 1.41092696e+00 -6.98433140e-01 -6.95032223e-01  1.06775782e+00\n",
      "   5.98617675e-01 -8.08684550e-01  1.04784039e+00  7.74068008e-01\n",
      "  -1.21569921e+00  1.00000000e+00]\n",
      " [-3.71066903e-01 -8.80808007e-01 -4.50718171e-01 -1.07182809e+00\n",
      "   2.01827652e+00 -7.80777015e-01 -1.20871983e+00  1.63456705e+00\n",
      "  -1.05785223e+00  1.00000000e+00]\n",
      " [ 1.33230088e+00  2.52930722e+00  1.03712758e+00  1.78240819e+00\n",
      "   1.29371691e-01  1.42594057e+00  1.46968288e+00  4.08186527e-01\n",
      "   1.46769945e+00  1.00000000e+00]\n",
      " [-5.36352922e-01 -8.33212129e-01 -8.09956673e-01 -6.23395303e-01\n",
      "  -7.21892884e-01 -8.08008349e-01 -3.89988922e-01 -5.53946256e-01\n",
      "  -1.21076649e+00  1.00000000e+00]\n",
      " [-1.04340402e+00 -8.46833888e-01 -8.61869622e-01 -1.13383109e+00\n",
      "  -1.01548786e+00 -5.55646117e-01 -1.45588388e+00 -1.44154763e+00\n",
      "  -4.56060619e-01  1.00000000e+00]]\n"
     ]
    }
   ],
   "source": [
    "ones_column = np.ones((X_train_scaled.shape[0], 1))\n",
    "ones_column2 = np.ones((X_test_scaled.shape[0], 1))\n",
    "X_train_scaled = np.hstack((X_train_scaled, ones_column))\n",
    "X_test_scaled = np.hstack((X_test_scaled, ones_column2))\n",
    "print(X_test_scaled)"
   ],
   "metadata": {
    "collapsed": false,
    "ExecuteTime": {
     "end_time": "2024-03-23T22:55:41.947630Z",
     "start_time": "2024-03-23T22:55:41.937274Z"
    }
   },
   "id": "77f859cb819e49a7",
   "execution_count": 10
  },
  {
   "cell_type": "code",
   "outputs": [
    {
     "name": "stdout",
     "output_type": "stream",
     "text": [
      "Theta: [[ 1.76405235]\n",
      " [ 0.40015721]\n",
      " [ 0.97873798]\n",
      " [ 2.2408932 ]\n",
      " [ 1.86755799]\n",
      " [-0.97727788]\n",
      " [ 0.95008842]\n",
      " [-0.15135721]\n",
      " [-0.10321885]\n",
      " [ 0.4105985 ]]\n"
     ]
    }
   ],
   "source": [
    "np.random.seed(0) # pour produire toujours le meme vecteur theta aléatoire\n",
    "theta=np.random.randn(10,1)\n",
    "print('Theta:',theta)"
   ],
   "metadata": {
    "collapsed": false,
    "ExecuteTime": {
     "end_time": "2024-03-23T22:55:55.814751Z",
     "start_time": "2024-03-23T22:55:55.808061Z"
    }
   },
   "id": "6da470e4355a7af1",
   "execution_count": 11
  },
  {
   "cell_type": "code",
   "outputs": [],
   "source": [
    "def model(X, theta):\n",
    "    return X.dot(theta)"
   ],
   "metadata": {
    "collapsed": false,
    "ExecuteTime": {
     "end_time": "2024-03-23T22:56:02.983736Z",
     "start_time": "2024-03-23T22:56:02.978066Z"
    }
   },
   "id": "b3feae2cb9dad976",
   "execution_count": 12
  },
  {
   "cell_type": "code",
   "outputs": [],
   "source": [
    "def cost_function(X, y, theta):\n",
    "    m = len(y)\n",
    "    return 1/(2*m) * np.sum((model(X, theta) - y)**2)"
   ],
   "metadata": {
    "collapsed": false,
    "ExecuteTime": {
     "end_time": "2024-03-23T22:56:09.641588Z",
     "start_time": "2024-03-23T22:56:09.636107Z"
    }
   },
   "id": "56a0df7dd2ac2de9",
   "execution_count": 13
  },
  {
   "cell_type": "code",
   "outputs": [
    {
     "data": {
      "text/plain": "114.6856799956796"
     },
     "execution_count": 14,
     "metadata": {},
     "output_type": "execute_result"
    }
   ],
   "source": [
    "cost_function(X_train_scaled, y_train, theta)"
   ],
   "metadata": {
    "collapsed": false,
    "ExecuteTime": {
     "end_time": "2024-03-23T22:56:16.103026Z",
     "start_time": "2024-03-23T22:56:16.095191Z"
    }
   },
   "id": "22d9a76573e55f40",
   "execution_count": 14
  },
  {
   "cell_type": "code",
   "outputs": [],
   "source": [
    "def grad(X, y, theta):\n",
    "    m = len(y)\n",
    "    return 1/m * X.T.dot(model(X, theta) - y)"
   ],
   "metadata": {
    "collapsed": false,
    "ExecuteTime": {
     "end_time": "2024-03-23T22:56:23.892627Z",
     "start_time": "2024-03-23T22:56:23.886583Z"
    }
   },
   "id": "a28741dd391ccafd",
   "execution_count": 15
  },
  {
   "cell_type": "code",
   "outputs": [],
   "source": [
    "def gradient_descent(X, y, theta, learning_rate, n_iterations):\n",
    "    \n",
    "    cost_history = np.zeros(n_iterations) # création d'un tableau de stockage pour enregistrer l'évolution du Cout du modele\n",
    "    \n",
    "    for i in range(0, n_iterations):\n",
    "        theta = theta - learning_rate * grad(X, y, theta) # mise a jour du parametre theta (formule du gradient descent)\n",
    "        cost_history[i] = cost_function(X, y, theta) # on enregistre la valeur du Cout au tour i dans cost_history[i]\n",
    "        \n",
    "    return theta, cost_history"
   ],
   "metadata": {
    "collapsed": false,
    "ExecuteTime": {
     "end_time": "2024-03-23T22:56:33.608983Z",
     "start_time": "2024-03-23T22:56:33.603074Z"
    }
   },
   "id": "9639590de9a97628",
   "execution_count": 16
  },
  {
   "cell_type": "code",
   "outputs": [],
   "source": [
    "n_iterations = 200\n",
    "learning_rate = 0.41\n",
    "\n",
    "theta_final, cost_history = gradient_descent(X_train_scaled, y_train, theta, learning_rate, n_iterations)"
   ],
   "metadata": {
    "collapsed": false,
    "ExecuteTime": {
     "end_time": "2024-03-23T22:57:57.278992Z",
     "start_time": "2024-03-23T22:57:57.266356Z"
    }
   },
   "id": "bed2f47346b06868",
   "execution_count": 29
  },
  {
   "cell_type": "code",
   "outputs": [
    {
     "data": {
      "text/plain": "0.9604825451385088"
     },
     "execution_count": 30,
     "metadata": {},
     "output_type": "execute_result"
    }
   ],
   "source": [
    "cost_history[-1]"
   ],
   "metadata": {
    "collapsed": false,
    "ExecuteTime": {
     "end_time": "2024-03-23T22:57:57.943814Z",
     "start_time": "2024-03-23T22:57:57.936355Z"
    }
   },
   "id": "8f5373ab80e40652",
   "execution_count": 30
  },
  {
   "cell_type": "code",
   "outputs": [
    {
     "data": {
      "text/plain": "array([[12.67035115],\n       [15.6694328 ],\n       [ 9.17590678],\n       [ 9.70175071],\n       [16.90565243],\n       [ 7.97156927],\n       [10.46536011],\n       [15.53281689],\n       [11.99562969],\n       [11.48048603],\n       [13.84720791],\n       [15.15080168],\n       [ 8.79195674],\n       [ 7.43712046],\n       [10.29380761],\n       [13.27377106],\n       [10.58600853],\n       [25.09868661],\n       [ 6.97410599],\n       [16.0874297 ],\n       [19.42581589],\n       [17.13015608],\n       [13.11599384],\n       [ 8.55895955],\n       [18.81547923],\n       [ 6.85832545],\n       [22.19528002],\n       [ 6.73040389],\n       [13.45702833],\n       [ 8.56529303],\n       [11.85846088],\n       [10.49721464],\n       [16.98581758],\n       [18.38387388],\n       [16.15261847],\n       [18.14596241],\n       [15.83605274],\n       [20.21844552],\n       [16.97808672],\n       [22.17148405],\n       [ 9.12587338],\n       [14.42843434],\n       [11.33135542],\n       [18.35058322],\n       [10.43437216],\n       [17.32097731],\n       [13.15163292],\n       [24.26447463],\n       [ 9.86724713],\n       [24.09140498],\n       [ 6.52693504],\n       [19.74760963],\n       [24.25068559],\n       [20.12279659],\n       [18.76219238],\n       [16.96569415],\n       [14.23242288],\n       [10.63454999],\n       [18.87044162],\n       [15.63028965],\n       [16.00523397],\n       [11.4676298 ],\n       [20.48091498],\n       [13.61906372],\n       [20.79307692],\n       [11.97170534],\n       [ 9.7717068 ],\n       [18.70173718],\n       [16.09766221],\n       [17.83644342],\n       [ 7.91658585],\n       [21.86034414],\n       [24.88482525],\n       [19.01462752],\n       [19.09143231],\n       [15.25133666],\n       [16.97401774],\n       [ 7.81331364],\n       [17.94164468],\n       [20.63084552],\n       [18.10388644],\n       [ 6.35556343],\n       [ 5.58125181],\n       [14.70254117],\n       [18.09937348],\n       [18.47631513],\n       [19.96587894],\n       [24.54526651],\n       [17.50610639],\n       [21.55144627],\n       [18.89808726],\n       [22.71128008],\n       [12.49101208],\n       [17.23806988],\n       [16.80698675],\n       [ 9.02531192],\n       [18.25036491],\n       [18.22263663],\n       [20.91565315],\n       [20.53132375],\n       [14.38271039],\n       [18.29903334],\n       [21.66276444],\n       [10.02333562],\n       [11.46061074],\n       [11.36670524],\n       [13.60281606],\n       [17.45235669],\n       [ 7.39085877],\n       [12.80581356],\n       [21.09808041],\n       [16.95898644],\n       [16.47208668],\n       [ 5.96027582],\n       [11.62691672],\n       [19.34827807],\n       [16.21854616],\n       [18.05795176],\n       [24.24148657],\n       [ 8.26016675],\n       [26.01578757],\n       [ 9.93445729],\n       [16.53952216],\n       [25.28215083],\n       [13.38165788],\n       [21.39284516],\n       [11.07412849],\n       [16.12498354],\n       [11.36133845],\n       [22.97350006],\n       [18.33663664],\n       [12.42948611],\n       [17.53930086],\n       [14.48328708],\n       [16.26927997],\n       [ 6.60797389],\n       [ 9.58938625],\n       [14.04967558],\n       [14.02499578],\n       [18.87874979],\n       [10.43295393],\n       [21.75979256],\n       [ 9.14464199],\n       [ 6.49485106],\n       [13.00868142],\n       [16.85299706],\n       [17.20657682],\n       [14.28217023],\n       [15.57413887],\n       [18.81299898],\n       [ 7.16748662],\n       [17.70493694],\n       [19.59814137],\n       [19.88963287],\n       [12.70717974],\n       [ 7.18529811],\n       [19.70990974],\n       [20.50058428],\n       [15.23020689],\n       [19.25481592]])"
     },
     "execution_count": 34,
     "metadata": {},
     "output_type": "execute_result"
    }
   ],
   "source": [
    "predictions = model(X_train_scaled, theta_final)\n",
    "predictions"
   ],
   "metadata": {
    "collapsed": false,
    "ExecuteTime": {
     "end_time": "2024-03-23T22:59:07.149780Z",
     "start_time": "2024-03-23T22:59:07.138283Z"
    }
   },
   "id": "87aa684f4880250e",
   "execution_count": 34
  },
  {
   "cell_type": "code",
   "outputs": [
    {
     "data": {
      "text/plain": "<Figure size 640x480 with 1 Axes>",
      "image/png": "[encoded data removed]"
     },
     "metadata": {},
     "output_type": "display_data"
    }
   ],
   "source": [
    "plt.plot(range(n_iterations), cost_history)\n",
    "plt.show()"
   ],
   "metadata": {
    "collapsed": false,
    "ExecuteTime": {
     "end_time": "2024-03-23T22:57:58.755088Z",
     "start_time": "2024-03-23T22:57:58.499884Z"
    }
   },
   "id": "2e286311b37a1bb1",
   "execution_count": 31
  },
  {
   "cell_type": "code",
   "outputs": [],
   "source": [
    "def coef_determination(y, pred):\n",
    "    u = ((y - pred)**2).sum()\n",
    "    v = ((y - y.mean())**2).sum()\n",
    "    return 1 - u/v"
   ],
   "metadata": {
    "collapsed": false,
    "ExecuteTime": {
     "end_time": "2024-03-23T22:58:21.648603Z",
     "start_time": "2024-03-23T22:58:21.643758Z"
    }
   },
   "id": "6be71d1a5ea94ec",
   "execution_count": 32
  },
  {
   "cell_type": "code",
   "outputs": [
    {
     "name": "stdout",
     "output_type": "stream",
     "text": [
      "Coeff de determination pour train :  92.83205254496863 %\n",
      "Coeff de determination pour test : 95.2042287218117 %\n"
     ]
    }
   ],
   "source": [
    "print(\"Coeff de determination pour train : \", coef_determination(y_train, predictions)*100 ,\"%\")\n",
    "predictions = model(X_test_scaled, theta_final)\n",
    "print(\"Coeff de determination pour test :\",coef_determination(y_test, predictions)*100,\"%\")"
   ],
   "metadata": {
    "collapsed": false,
    "ExecuteTime": {
     "end_time": "2024-03-23T22:59:10.848163Z",
     "start_time": "2024-03-23T22:59:10.841654Z"
    }
   },
   "id": "2ec68f92033d751c",
   "execution_count": 35
  }
 ],
 "metadata": {
  "kernelspec": {
   "display_name": "Python 3",
   "language": "python",
   "name": "python3"
  },
  "language_info": {
   "codemirror_mode": {
    "name": "ipython",
    "version": 2
   },
   "file_extension": ".py",
   "mimetype": "text/x-python",
   "name": "python",
   "nbconvert_exporter": "python",
   "pygments_lexer": "ipython2",
   "version": "2.7.6"
  }
 },
 "nbformat": 4,
 "nbformat_minor": 5
}
